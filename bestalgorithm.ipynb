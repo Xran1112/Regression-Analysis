{
  "cells": [
    {
      "cell_type": "markdown",
      "source": [
        "## 1 Instruction of running the code\n",
        "### 1.1 Important libraries & Version control\n",
        "Google Colab:\n",
        "Python 3.7.13\n",
        "Sklearn 1.0.2\n",
        "Tensorflow/Keras 2.80\n",
        "### 1.2 Running environment\n",
        "The python code is tested and running under the environment of both anaconda and google colab. The computational power of the CPU would decide how long the code will run and be aware the dataset is pulled from the internet so make sure your device has a connection to it. The process time may vary from different versions of google colab such that the pro version would assign more memory/cpu/gpu. The local environment is anaconda 4.12.0 under Windows 11 with CPU of i7-117800H and 16G RAM.\n",
        "### 1.3 Directory of tuning result\n",
        "It is highly recommended that before you start tuning hyperparameters in the LSTM model, put a directory to your own location in the tuner definition. This provides a safe location and avoids authentication problems if you are running anaconda without administrator mode that blocks you from creating a file folder in a relative directory automatically. Moreover, reproduction of tuning results can be covered by the file stored as well. \n",
        "### 1.4 How to successfully run the code\n",
        "It is recommended to run ipynb by running from top to bottom through each code block. For an ease of running best model only, you may want to skip the hyperparameters tuning section just to avoid the massive processing time.\n"
      ],
      "metadata": {
        "id": "0rMYFc3MVOYg"
      },
      "id": "0rMYFc3MVOYg"
    },
    {
      "cell_type": "markdown",
      "source": [
        "### 1.5 Helpful command to install and upgrade packages"
      ],
      "metadata": {
        "id": "5kjjER6oVl7I"
      },
      "id": "5kjjER6oVl7I"
    },
    {
      "cell_type": "code",
      "execution_count": 30,
      "id": "6475ba3d",
      "metadata": {
        "colab": {
          "base_uri": "https://localhost:8080/"
        },
        "id": "6475ba3d",
        "outputId": "3eda66dc-897f-4d99-cfae-43c6285e83dd"
      },
      "outputs": [
        {
          "output_type": "stream",
          "name": "stdout",
          "text": [
            "Requirement already satisfied: xgboost in /usr/local/lib/python3.7/dist-packages (0.90)\n",
            "Requirement already satisfied: scipy in /usr/local/lib/python3.7/dist-packages (from xgboost) (1.4.1)\n",
            "Requirement already satisfied: numpy in /usr/local/lib/python3.7/dist-packages (from xgboost) (1.21.6)\n",
            "Requirement already satisfied: yfinance in /usr/local/lib/python3.7/dist-packages (0.1.70)\n",
            "Requirement already satisfied: numpy>=1.15 in /usr/local/lib/python3.7/dist-packages (from yfinance) (1.21.6)\n",
            "Requirement already satisfied: pandas>=0.24.0 in /usr/local/lib/python3.7/dist-packages (from yfinance) (1.3.5)\n",
            "Requirement already satisfied: requests>=2.26 in /usr/local/lib/python3.7/dist-packages (from yfinance) (2.27.1)\n",
            "Requirement already satisfied: multitasking>=0.0.7 in /usr/local/lib/python3.7/dist-packages (from yfinance) (0.0.10)\n",
            "Requirement already satisfied: lxml>=4.5.1 in /usr/local/lib/python3.7/dist-packages (from yfinance) (4.8.0)\n",
            "Requirement already satisfied: pytz>=2017.3 in /usr/local/lib/python3.7/dist-packages (from pandas>=0.24.0->yfinance) (2022.1)\n",
            "Requirement already satisfied: python-dateutil>=2.7.3 in /usr/local/lib/python3.7/dist-packages (from pandas>=0.24.0->yfinance) (2.8.2)\n",
            "Requirement already satisfied: six>=1.5 in /usr/local/lib/python3.7/dist-packages (from python-dateutil>=2.7.3->pandas>=0.24.0->yfinance) (1.15.0)\n",
            "Requirement already satisfied: charset-normalizer~=2.0.0 in /usr/local/lib/python3.7/dist-packages (from requests>=2.26->yfinance) (2.0.12)\n",
            "Requirement already satisfied: certifi>=2017.4.17 in /usr/local/lib/python3.7/dist-packages (from requests>=2.26->yfinance) (2021.10.8)\n",
            "Requirement already satisfied: urllib3<1.27,>=1.21.1 in /usr/local/lib/python3.7/dist-packages (from requests>=2.26->yfinance) (1.24.3)\n",
            "Requirement already satisfied: idna<4,>=2.5 in /usr/local/lib/python3.7/dist-packages (from requests>=2.26->yfinance) (2.10)\n",
            "Requirement already satisfied: pandas in /usr/local/lib/python3.7/dist-packages (1.3.5)\n",
            "Requirement already satisfied: numpy>=1.17.3 in /usr/local/lib/python3.7/dist-packages (from pandas) (1.21.6)\n",
            "Requirement already satisfied: pytz>=2017.3 in /usr/local/lib/python3.7/dist-packages (from pandas) (2022.1)\n",
            "Requirement already satisfied: python-dateutil>=2.7.3 in /usr/local/lib/python3.7/dist-packages (from pandas) (2.8.2)\n",
            "Requirement already satisfied: six>=1.5 in /usr/local/lib/python3.7/dist-packages (from python-dateutil>=2.7.3->pandas) (1.15.0)\n",
            "Requirement already satisfied: pandas-datareader in /usr/local/lib/python3.7/dist-packages (0.10.0)\n",
            "Requirement already satisfied: requests>=2.19.0 in /usr/local/lib/python3.7/dist-packages (from pandas-datareader) (2.27.1)\n",
            "Requirement already satisfied: pandas>=0.23 in /usr/local/lib/python3.7/dist-packages (from pandas-datareader) (1.3.5)\n",
            "Requirement already satisfied: lxml in /usr/local/lib/python3.7/dist-packages (from pandas-datareader) (4.8.0)\n",
            "Requirement already satisfied: pytz>=2017.3 in /usr/local/lib/python3.7/dist-packages (from pandas>=0.23->pandas-datareader) (2022.1)\n",
            "Requirement already satisfied: numpy>=1.17.3 in /usr/local/lib/python3.7/dist-packages (from pandas>=0.23->pandas-datareader) (1.21.6)\n",
            "Requirement already satisfied: python-dateutil>=2.7.3 in /usr/local/lib/python3.7/dist-packages (from pandas>=0.23->pandas-datareader) (2.8.2)\n",
            "Requirement already satisfied: six>=1.5 in /usr/local/lib/python3.7/dist-packages (from python-dateutil>=2.7.3->pandas>=0.23->pandas-datareader) (1.15.0)\n",
            "Requirement already satisfied: charset-normalizer~=2.0.0 in /usr/local/lib/python3.7/dist-packages (from requests>=2.19.0->pandas-datareader) (2.0.12)\n",
            "Requirement already satisfied: idna<4,>=2.5 in /usr/local/lib/python3.7/dist-packages (from requests>=2.19.0->pandas-datareader) (2.10)\n",
            "Requirement already satisfied: urllib3<1.27,>=1.21.1 in /usr/local/lib/python3.7/dist-packages (from requests>=2.19.0->pandas-datareader) (1.24.3)\n",
            "Requirement already satisfied: certifi>=2017.4.17 in /usr/local/lib/python3.7/dist-packages (from requests>=2.19.0->pandas-datareader) (2021.10.8)\n"
          ]
        }
      ],
      "source": [
        "!pip install xgboost\n",
        "!pip install yfinance\n",
        "!pip install -q -U keras-tuner\n",
        "!pip install --upgrade pandas\n",
        "!pip install --upgrade pandas-datareader"
      ]
    },
    {
      "cell_type": "markdown",
      "source": [
        "### 1.6 Import Libraries"
      ],
      "metadata": {
        "id": "QV5hP14FV23m"
      },
      "id": "QV5hP14FV23m"
    },
    {
      "cell_type": "code",
      "execution_count": 31,
      "id": "c6c90cc4",
      "metadata": {
        "id": "c6c90cc4"
      },
      "outputs": [],
      "source": [
        "import pandas as pd\n",
        "import numpy as np\n",
        "import matplotlib.pyplot as plt\n",
        "import seaborn as sns\n",
        "import yfinance as yf\n",
        "import xgboost as xgb\n",
        "# For reading stock data\n",
        "import pandas_datareader.data as web\n",
        "from sklearn.preprocessing import MinMaxScaler\n",
        "# For time stamps\n",
        "from datetime import datetime\n",
        "# For data pre-processing\n",
        "from sklearn.preprocessing import MinMaxScaler\n",
        "from sklearn.tree import DecisionTreeRegressor\n",
        "# Grid Search\n",
        "from sklearn.model_selection import GridSearchCV\n",
        "from sklearn.neighbors import NearestNeighbors, KNeighborsClassifier\n",
        "from sklearn import metrics\n",
        "from sklearn.metrics import accuracy_score \n",
        "from sklearn.ensemble import RandomForestRegressor\n",
        "from sklearn.svm import SVR\n",
        "\n",
        "# LSTM\n",
        "import math\n",
        "import keras_tuner\n",
        "from tensorflow import keras\n",
        "from sklearn.preprocessing import MinMaxScaler\n",
        "from keras.models import save_model\n",
        "from keras.models import model_from_json\n",
        "from keras.models import Sequential\n",
        "from keras.layers import Dense\n",
        "from keras.layers import LSTM\n",
        "from keras.layers import Dropout\n",
        "from kerastuner.tuners import RandomSearch\n",
        "from kerastuner.engine.hyperparameters import HyperParameters\n",
        "from tensorflow.keras import optimizers,datasets"
      ]
    },
    {
      "cell_type": "markdown",
      "source": [
        "### 4.7 Set the maximum number of rows and columns can be viewed "
      ],
      "metadata": {
        "id": "6uqRGzQ5WANx"
      },
      "id": "6uqRGzQ5WANx"
    },
    {
      "cell_type": "code",
      "execution_count": 32,
      "id": "a79759c9",
      "metadata": {
        "id": "a79759c9"
      },
      "outputs": [],
      "source": [
        "pd.set_option('display.max_rows', None)  # Set the maximum number of rows that can be viewed\n",
        "pd.set_option('display.max_columns', None)  # Set the maximum number of columns that can be viewed"
      ]
    },
    {
      "cell_type": "markdown",
      "source": [
        "## 2 Data Preprocessing"
      ],
      "metadata": {
        "id": "3u4PM2ADWOt0"
      },
      "id": "3u4PM2ADWOt0"
    },
    {
      "cell_type": "markdown",
      "source": [
        "### 2.1 Download the latest five-year data to 08/05/2022"
      ],
      "metadata": {
        "id": "w_thGux2WRSb"
      },
      "id": "w_thGux2WRSb"
    },
    {
      "cell_type": "code",
      "execution_count": 33,
      "id": "7e24f27b",
      "metadata": {
        "colab": {
          "base_uri": "https://localhost:8080/"
        },
        "id": "7e24f27b",
        "outputId": "b43bbbf9-585a-4869-cec2-c88ebd6a4738"
      },
      "outputs": [
        {
          "output_type": "stream",
          "name": "stdout",
          "text": [
            "\r[*********************100%***********************]  1 of 1 completed\n",
            "        Date       Open       High        Low      Close  Adj Close     Volume\n",
            "0 2017-05-08  37.257500  38.424999  37.257500  38.252499  36.063488  195009600\n",
            "1 2017-05-09  38.467499  38.720001  38.362499  38.497501  36.294476  156521600\n",
            "2 2017-05-10  38.407501  38.485001  38.027500  38.314999  36.122414  103222800\n",
            "3 2017-05-11  38.112499  38.517502  38.077499  38.487499  36.434814  109020400\n",
            "4 2017-05-12  38.674999  39.105000  38.667500  39.025002  36.943645  130108000\n",
            "<class 'pandas.core.frame.DataFrame'>\n",
            "RangeIndex: 1260 entries, 0 to 1259\n",
            "Data columns (total 7 columns):\n",
            " #   Column     Non-Null Count  Dtype         \n",
            "---  ------     --------------  -----         \n",
            " 0   Date       1260 non-null   datetime64[ns]\n",
            " 1   Open       1260 non-null   float64       \n",
            " 2   High       1260 non-null   float64       \n",
            " 3   Low        1260 non-null   float64       \n",
            " 4   Close      1260 non-null   float64       \n",
            " 5   Adj Close  1260 non-null   float64       \n",
            " 6   Volume     1260 non-null   int64         \n",
            "dtypes: datetime64[ns](1), float64(5), int64(1)\n",
            "memory usage: 69.0 KB\n",
            "None\n"
          ]
        }
      ],
      "source": [
        "# Pull stock price of APPLE in 5 years \n",
        "end = datetime(2022, 5, 8)\n",
        "start = datetime(end.year - 5, end.month, end.day)\n",
        "# using DataReader to read the stock price from start point to end point\n",
        "df = yf.download('AAPL', start=start, end=end)\n",
        "df = df.reset_index(level=0)\n",
        "print(df.head())\n",
        "print(df.info())"
      ]
    },
    {
      "cell_type": "code",
      "execution_count": 34,
      "id": "erqxQ0CAhWY7",
      "metadata": {
        "colab": {
          "base_uri": "https://localhost:8080/"
        },
        "id": "erqxQ0CAhWY7",
        "outputId": "ce71fb7c-29b2-44ca-87fa-2e97bb5deb10"
      },
      "outputs": [
        {
          "output_type": "execute_result",
          "data": {
            "text/plain": [
              "(1260, 7)"
            ]
          },
          "metadata": {},
          "execution_count": 34
        }
      ],
      "source": [
        "df.shape"
      ]
    },
    {
      "cell_type": "markdown",
      "source": [
        "### 2.2 Generate extra features to analyze data"
      ],
      "metadata": {
        "id": "oQVNuQ0sXYDZ"
      },
      "id": "oQVNuQ0sXYDZ"
    },
    {
      "cell_type": "markdown",
      "source": [
        "We want to know the year, month, day, week of the year, and day of the week corresponding to Date, try to find the correlations between time characteristics and closing prices"
      ],
      "metadata": {
        "id": "uwFUON5hXbO-"
      },
      "id": "uwFUON5hXbO-"
    },
    {
      "cell_type": "code",
      "execution_count": 35,
      "id": "de816e9e",
      "metadata": {
        "colab": {
          "base_uri": "https://localhost:8080/"
        },
        "id": "de816e9e",
        "outputId": "aa6424ef-687b-40d3-a571-1f6bd0c3fc3e"
      },
      "outputs": [
        {
          "output_type": "stream",
          "name": "stdout",
          "text": [
            "Index(['Date', 'High', 'Low', 'Open', 'Volume', 'DayOfYear', 'day', 'month',\n",
            "       'year', 'weekday', 'week', 'Close'],\n",
            "      dtype='object')\n",
            "        Date       High        Low       Open     Volume  DayOfYear  day  \\\n",
            "0 2017-05-08  38.424999  37.257500  37.257500  195009600        128    8   \n",
            "1 2017-05-09  38.720001  38.362499  38.467499  156521600        129    9   \n",
            "2 2017-05-10  38.485001  38.027500  38.407501  103222800        130   10   \n",
            "3 2017-05-11  38.517502  38.077499  38.112499  109020400        131   11   \n",
            "4 2017-05-12  39.105000  38.667500  38.674999  130108000        132   12   \n",
            "\n",
            "   month  year  weekday  week      Close  \n",
            "0      5  2017        0    19  38.252499  \n",
            "1      5  2017        1    19  38.497501  \n",
            "2      5  2017        2    19  38.314999  \n",
            "3      5  2017        3    19  38.487499  \n",
            "4      5  2017        4    19  39.025002  \n",
            "(1260, 12)\n"
          ]
        },
        {
          "output_type": "stream",
          "name": "stderr",
          "text": [
            "/usr/local/lib/python3.7/dist-packages/ipykernel_launcher.py:8: FutureWarning: Series.dt.weekofyear and Series.dt.week have been deprecated.  Please use Series.dt.isocalendar().week instead.\n",
            "  \n"
          ]
        }
      ],
      "source": [
        "#Generate the year, month, day, week of the year, and day of the week corresponding to Date\n",
        "df[\"Date\"] = pd.to_datetime(df[\"Date\"])\n",
        "df[\"DayOfYear\"] = df[\"Date\"].dt.dayofyear\n",
        "df[\"day\"] = df[\"Date\"].dt.day\n",
        "df[\"month\"] = df[\"Date\"].dt.month\n",
        "df[\"year\"] = df[\"Date\"].dt.year\n",
        "df[\"weekday\"] = df[\"Date\"].dt.weekday\n",
        "df[\"week\"] = df[\"Date\"].dt.week\n",
        "\n",
        "# Adjust the position of columns\n",
        "df = df[['Date', 'High', 'Low', 'Open', 'Volume', 'DayOfYear', 'day',\n",
        "         'month', 'year', 'weekday', 'week', 'Close']]\n",
        "# View all columns\n",
        "print(df.columns)\n",
        "\n",
        "print(df.head())\n",
        "\n",
        "# View shape of df\n",
        "print(df.shape)"
      ]
    },
    {
      "cell_type": "markdown",
      "source": [
        "### 2.3 The function of generate plots to analyse data"
      ],
      "metadata": {
        "id": "Qd0tcYQmXu-I"
      },
      "id": "Qd0tcYQmXu-I"
    },
    {
      "cell_type": "markdown",
      "source": [
        "We plot the close price and different time features to visualize the relationships, using the feature generated above"
      ],
      "metadata": {
        "id": "5doE6iExX1Ay"
      },
      "id": "5doE6iExX1Ay"
    },
    {
      "cell_type": "code",
      "execution_count": 36,
      "id": "4b3764d0",
      "metadata": {
        "colab": {
          "base_uri": "https://localhost:8080/",
          "height": 1000
        },
        "id": "4b3764d0",
        "outputId": "86ffa381-9623-4d7c-9f49-ad355f1a973c"
      },
      "outputs": [
        {
          "output_type": "display_data",
          "data": {
            "text/plain": [
              "<Figure size 2160x1800 with 2 Axes>"
            ],
            "image/png": "[encoded data removed]"
          },
          "metadata": {
            "needs_background": "light"
          }
        },
        {
          "output_type": "display_data",
          "data": {
            "text/plain": [
              "<Figure size 432x288 with 1 Axes>"
            ],
            "image/png": "[encoded data removed]"
          },
          "metadata": {
            "needs_background": "light"
          }
        },
        {
          "output_type": "display_data",
          "data": {
            "text/plain": [
              "<Figure size 432x288 with 1 Axes>"
            ],
            "image/png": "[encoded data removed]"
          },
          "metadata": {
            "needs_background": "light"
          }
        },
        {
          "output_type": "display_data",
          "data": {
            "text/plain": [
              "<Figure size 432x288 with 1 Axes>"
            ],
            "image/png": "[encoded data removed]"
          },
          "metadata": {
            "needs_background": "light"
          }
        },
        {
          "output_type": "display_data",
          "data": {
            "text/plain": [
              "<Figure size 432x288 with 1 Axes>"
            ],
            "image/png": "[encoded data removed]"
          },
          "metadata": {
            "needs_background": "light"
          }
        },
        {
          "output_type": "display_data",
          "data": {
            "text/plain": [
              "<Figure size 432x288 with 1 Axes>"
            ],
            "image/png": "[encoded data removed]"
          },
          "metadata": {
            "needs_background": "light"
          }
        }
      ],
      "source": [
        "# generate plots\n",
        "def generatePlot(train_data):\n",
        "    plt.subplots(figsize=(30, 25))\n",
        "    plt.title(\"heatmap of features\")\n",
        "    sns.heatmap(train_data[::500].corr(), cmap=\"YlGnBu\", annot=True, vmin=-0.1, vmax=0.4, center=0)\n",
        "    plt.show()\n",
        "\n",
        "    close_weekday = train_data.groupby(\"weekday\", as_index=False)[\"Close\"].mean()\n",
        "    sns.lineplot(data=close_weekday, x=\"weekday\", y=\"Close\")\n",
        "    plt.show()\n",
        "\n",
        "    close_day = train_data.groupby(\"day\", as_index=False)[\"Close\"].mean()\n",
        "    sns.lineplot(data=close_day, x=\"day\", y=\"Close\")\n",
        "    plt.show()\n",
        "\n",
        "    close_month = train_data.groupby(\"month\", as_index=False)[\"Close\"].mean()\n",
        "    sns.lineplot(data=close_month, x=\"month\", y=\"Close\")\n",
        "    plt.show()\n",
        "\n",
        "    sns.lineplot(data=train_data, x=\"Date\", y=\"Close\" )\n",
        "    plt.show()\n",
        "\n",
        "    sns.boxplot(data=train_data, x=\"weekday\", y=\"Close\")\n",
        "    plt.show()\n",
        "generatePlot(df)"
      ]
    },
    {
      "cell_type": "code",
      "execution_count": 37,
      "id": "1cfd40ee",
      "metadata": {
        "id": "1cfd40ee"
      },
      "outputs": [],
      "source": [
        "# delete \"Date\" feature\n",
        "df.drop([\"Date\"], axis=1, inplace=True)"
      ]
    },
    {
      "cell_type": "markdown",
      "source": [
        "### 2.4 Pre-process the numeric data of stocks"
      ],
      "metadata": {
        "id": "mCfg4xiNX9L3"
      },
      "id": "mCfg4xiNX9L3"
    },
    {
      "cell_type": "markdown",
      "source": [
        "We choose Min-MaxScaler function to normalize the numeric data, instead of time features"
      ],
      "metadata": {
        "id": "zVM_m6r0YFNr"
      },
      "id": "zVM_m6r0YFNr"
    },
    {
      "cell_type": "code",
      "execution_count": 38,
      "id": "ec74ae9c",
      "metadata": {
        "id": "ec74ae9c"
      },
      "outputs": [],
      "source": [
        "# definite the preprocessing function, choosing \"High\", \"Low\", \"Open\", \"Volume\", \"Close\" features\n",
        "def preprocessing(df):\n",
        "    scaler = MinMaxScaler(feature_range=(0, 1))\n",
        "    transformed_data = scaler.fit_transform(df[[\"High\", \"Low\", \"Open\", \"Volume\", \"Close\"]])\n",
        "\n",
        "    df[\"High\"] = transformed_data[:, 0]\n",
        "    df[\"Low\"] = transformed_data[:, 1]\n",
        "    df[\"Open\"] = transformed_data[:, 2]\n",
        "    df[\"Volume\"] = transformed_data[:, 3]\n",
        "\n",
        "    scaler_close = MinMaxScaler(feature_range=(0, 1))\n",
        "    transformed_close = scaler_close.fit_transform(df[[\"Close\"]])\n",
        "\n",
        "    df[\"Close\"] = transformed_close\n",
        "    return scaler, scaler_close\n",
        "\n",
        "\n",
        "scaler, scaler_close = preprocessing(df)\n",
        "\n",
        "data_np = df.values"
      ]
    },
    {
      "cell_type": "markdown",
      "source": [
        "### 2.5 Adding features because using time series-based LSTM model"
      ],
      "metadata": {
        "id": "9d1ZtmbVYSaL"
      },
      "id": "9d1ZtmbVYSaL"
    },
    {
      "cell_type": "markdown",
      "source": [
        "Since we use a time series-based LSTM model for prediction, we add the first 60 days of each day as new features to each row of the dataset, so the shape of the dataset is reduced by 60 rows, conversely adding relative columns."
      ],
      "metadata": {
        "id": "l2uaL_TxYbkG"
      },
      "id": "l2uaL_TxYbkG"
    },
    {
      "cell_type": "code",
      "execution_count": 39,
      "id": "ebbe9854",
      "metadata": {
        "colab": {
          "base_uri": "https://localhost:8080/"
        },
        "id": "ebbe9854",
        "outputId": "ac56db5a-0cb3-48b6-8d35-8d764c6564b0"
      },
      "outputs": [
        {
          "output_type": "stream",
          "name": "stdout",
          "text": [
            "(1200, 71)\n"
          ]
        }
      ],
      "source": [
        "# Use the close price of the past_days days as a feature\n",
        "data = []\n",
        "past_days = 60\n",
        "\n",
        "for i in range(60, df.shape[0]):\n",
        "    # Concatenate the i-th row of data_np\n",
        "    # Put the close price of the previous past_days days as a feature and put it into the feature of the i-th day\n",
        "    data.append(np.hstack((data_np[i - past_days:i, -1], data_np[i])).tolist())\n",
        "\n",
        "data = np.array(data)\n",
        "print(data.shape)"
      ]
    },
    {
      "cell_type": "markdown",
      "source": [
        "### 2.6 Divide training set and test set"
      ],
      "metadata": {
        "id": "vhq_zoTqYhqe"
      },
      "id": "vhq_zoTqYhqe"
    },
    {
      "cell_type": "markdown",
      "source": [
        "We choose 80% of dataset to become training set and 20% to become test set"
      ],
      "metadata": {
        "id": "gyOouenPYliO"
      },
      "id": "gyOouenPYliO"
    },
    {
      "cell_type": "code",
      "execution_count": 40,
      "id": "e1c451f1",
      "metadata": {
        "id": "e1c451f1"
      },
      "outputs": [],
      "source": [
        "split = 0.8\n",
        "# Use sklearn method to divide training set and test set\n",
        "from sklearn.model_selection import train_test_split\n",
        "\n",
        "X_train, X_test, y_train, y_test = train_test_split(data[:, :-1], data[:, -1], test_size=1 - split, random_state=32)"
      ]
    },
    {
      "cell_type": "markdown",
      "id": "Gp0S3JseukBu",
      "metadata": {
        "id": "Gp0S3JseukBu"
      },
      "source": [
        "## 5 LSTM"
      ]
    },
    {
      "cell_type": "markdown",
      "id": "6qviC8D3uoh4",
      "metadata": {
        "id": "6qviC8D3uoh4"
      },
      "source": [
        "### 5.1 LSTM with extra dimention"
      ]
    },
    {
      "cell_type": "markdown",
      "source": [
        "### 5.2 LSTM with only historical close value"
      ],
      "metadata": {
        "id": "Wd6L8SK4lfGj"
      },
      "id": "Wd6L8SK4lfGj"
    },
    {
      "cell_type": "markdown",
      "source": [
        "#### 5.2.1 Recreate and shape the data frame"
      ],
      "metadata": {
        "id": "ZP1_CXPibQMW"
      },
      "id": "ZP1_CXPibQMW"
    },
    {
      "cell_type": "code",
      "source": [
        "df = yf.download('AAPL', start=start, end=end)\n",
        "df_LSTM_cv = df.filter(['Close'])\n",
        "dataset_LSTM_cv = df_LSTM_cv.values\n",
        "\n",
        "scaler_LSTM_cv = MinMaxScaler(feature_range=(0,1))\n",
        "scaled_data_LSTM_cv = scaler_LSTM_cv.fit_transform(dataset_LSTM_cv)"
      ],
      "metadata": {
        "colab": {
          "base_uri": "https://localhost:8080/"
        },
        "id": "QBGr2MZeIG8k",
        "outputId": "48894ead-5bcd-4860-b999-504e583ba313"
      },
      "id": "QBGr2MZeIG8k",
      "execution_count": 41,
      "outputs": [
        {
          "output_type": "stream",
          "name": "stdout",
          "text": [
            "\r[*********************100%***********************]  1 of 1 completed\n"
          ]
        }
      ]
    },
    {
      "cell_type": "code",
      "source": [
        "dataset_LSTM_cv"
      ],
      "metadata": {
        "colab": {
          "base_uri": "https://localhost:8080/"
        },
        "id": "17M01tSlMqV2",
        "outputId": "9180caac-8bed-4c57-da4b-8595993833c7"
      },
      "id": "17M01tSlMqV2",
      "execution_count": 42,
      "outputs": [
        {
          "output_type": "execute_result",
          "data": {
            "text/plain": [
              "array([[ 38.25249863],\n",
              "       [ 38.49750137],\n",
              "       [ 38.31499863],\n",
              "       ...,\n",
              "       [166.02000427],\n",
              "       [156.77000427],\n",
              "       [157.27999878]])"
            ]
          },
          "metadata": {},
          "execution_count": 42
        }
      ]
    },
    {
      "cell_type": "code",
      "source": [
        "# Create the training data set \n",
        "train_data_total_cv = scaled_data_LSTM_cv[0:int(training_data_LSTM_len)]\n",
        "# Split the data into x_train_cv and y_train_cv data sets\n",
        "x_train_LSTM_cv = []\n",
        "y_train_LSTM_cv = []\n",
        "\n",
        "for i in range(60, training_data_LSTM_len):\n",
        "    x_train_LSTM_cv.append(train_data_total[i-60:i,0])\n",
        "    y_train_LSTM_cv.append(train_data_total[i,0])\n",
        "\n",
        "# Convert the x_train and y_train to numpy arrays \n",
        "x_train_LSTM_cv, y_train_LSTM_cv = np.array(x_train_LSTM_cv), np.array(y_train_LSTM_cv)\n",
        "x_train_LSTM_cv = np.reshape(x_train_LSTM_cv, (x_train_LSTM_cv.shape[0], x_train_LSTM_cv.shape[1], 1))"
      ],
      "metadata": {
        "id": "rGHr745uleV5"
      },
      "id": "rGHr745uleV5",
      "execution_count": 43,
      "outputs": []
    },
    {
      "cell_type": "code",
      "source": [
        "# Create the testing data set\n",
        "test_data_LSTM_cv = scaled_data_LSTM_cv[training_data_LSTM_len - 60: , :]\n",
        "\n",
        "# Create the data sets x_test_cv and y_test_cv\n",
        "x_test_LSTM_cv = []\n",
        "y_test_LSTM_cv = dataset_LSTM_cv[training_data_LSTM_len:, 0]\n",
        "for i in range(60, len(test_data_LSTM_cv)):\n",
        "    x_test_LSTM_cv.append(test_data_LSTM_cv[i-60:i, 0])\n",
        "    \n",
        "# Convert the data to a numpy array\n",
        "x_test_LSTM_cv = np.array(x_test_LSTM_cv)\n",
        "x_test_LSTM_cv = np.reshape(x_test_LSTM_cv, (x_test_LSTM_cv.shape[0], x_test_LSTM_cv.shape[1], 1))"
      ],
      "metadata": {
        "id": "ufokBc6cmDq9"
      },
      "id": "ufokBc6cmDq9",
      "execution_count": 44,
      "outputs": []
    },
    {
      "cell_type": "markdown",
      "source": [
        "#### 5.2.2 Hyperparameter Tuning"
      ],
      "metadata": {
        "id": "37nCKylhbk4z"
      },
      "id": "37nCKylhbk4z"
    },
    {
      "cell_type": "code",
      "source": [
        "def build_model_cv(hp):\n",
        "    model = Sequential()\n",
        "    model.add(LSTM(hp.Int('input_unit',min_value=64,max_value=256,step=64),return_sequences=True, activation = 'relu', input_shape=(x_train_LSTM_cv.shape[1:])))\n",
        "    model.add(Dropout(hp.Float('Dropout_rate',min_value=0,max_value=0.2,step=0.1)))\n",
        "    for i in range(hp.Int('n_layers', 1, 3)):\n",
        "        model.add(LSTM(hp.Int(f'lstm_{i}_units',min_value=64,max_value=256,step=64),return_sequences=True))\n",
        "        model.add(Dropout(hp.Float('Dropout_rate',min_value=0,max_value=0.2,step=0.1)))\n",
        "    model.add(LSTM(64, return_sequences=False))\n",
        "    model.add(Dense(hp.Int('input_unit',min_value=64,max_value=128,step=64)))\n",
        "    model.add(Dropout(hp.Float('Dropout_rate',min_value=0,max_value=0.2,step=0.1)))\n",
        "    hp_learning_rate = hp.Choice('learning_rate', values=[1e-3, 1e-4])\n",
        "    model.add(Dense(1))\n",
        "\n",
        "    model.compile(optimizer='adam', loss='mean_squared_error',metrics = ['mse'])\n",
        "    return model\n",
        "\n",
        "\n",
        "\n",
        "tuner_cv= keras_tuner.RandomSearch(\n",
        "        build_model_cv,\n",
        "        objective='mse',\n",
        "        max_trials=196,\n",
        "        overwrite=True\n",
        "        )\n",
        "\n",
        "tuner_cv.search_space_summary()\n",
        "\n",
        "tuner_cv.search(x_train_LSTM_cv, y_train_LSTM_cv, epochs=10, batch_size=80, validation_split=0.2,shuffle=False)\n",
        "\n",
        "best_model_cv = tuner_cv.get_best_models(1)[0]"
      ],
      "metadata": {
        "id": "YfpBuWrWmhwx"
      },
      "id": "YfpBuWrWmhwx",
      "execution_count": null,
      "outputs": []
    },
    {
      "cell_type": "code",
      "source": [
        "best_model_cv.summary()"
      ],
      "metadata": {
        "id": "j6gRR8Owmx7G"
      },
      "id": "j6gRR8Owmx7G",
      "execution_count": null,
      "outputs": []
    },
    {
      "cell_type": "markdown",
      "source": [
        "#### 5.2.3 Save and define the best high dimention data"
      ],
      "metadata": {
        "id": "mtXgyweecFA5"
      },
      "id": "mtXgyweecFA5"
    },
    {
      "cell_type": "code",
      "source": [
        "best_model_cv = Sequential()\n",
        "best_model_cv.add(LSTM(units = 64, return_sequences = True, input_shape = (x_train_LSTM_cv.shape[1:])))\n",
        "best_model_cv.add(LSTM(units = 192, return_sequences = True))\n",
        "best_model_cv.add(LSTM(units = 64, return_sequences = False))\n",
        "best_model_cv.add(Dense(units = 256))\n",
        "best_model_cv.add(Dense(1))\n",
        "adam = optimizers.Adam(learning_rate=0.001)\n",
        "best_model_cv.compile(optimizer = adam ,loss = 'mean_squared_error')\n",
        "best_model_cv.fit(x_train_LSTM_cv, y_train_LSTM_cv, epochs=80, batch_size=10)"
      ],
      "metadata": {
        "id": "l0J2irBicI6q"
      },
      "id": "l0J2irBicI6q",
      "execution_count": null,
      "outputs": []
    },
    {
      "cell_type": "code",
      "source": [
        "best_model_cv.save(\"LSTM_model.h5\")"
      ],
      "metadata": {
        "id": "AbwcVXtz2M6a"
      },
      "id": "AbwcVXtz2M6a",
      "execution_count": null,
      "outputs": []
    },
    {
      "cell_type": "markdown",
      "source": [
        "#### 5.2.4 Prediction using the best model"
      ],
      "metadata": {
        "id": "EC8LDuKlb4i_"
      },
      "id": "EC8LDuKlb4i_"
    },
    {
      "cell_type": "code",
      "source": [
        "# predicte price values \n",
        "predictions_LSTM_cv = best_model_cv.predict(x_test_LSTM_cv)\n",
        "\n",
        "pred_cv = scaler_LSTM_cv.inverse_transform(predictions_LSTM_cv)\n",
        "\n",
        "# Get the mean squared error \n",
        "mse_LSTM_cv = np.mean(((pred_cv - y_test_LSTM_cv) ** 2))\n",
        "mse_LSTM_cv"
      ],
      "metadata": {
        "id": "39rNJFHPoCHp"
      },
      "id": "39rNJFHPoCHp",
      "execution_count": null,
      "outputs": []
    },
    {
      "cell_type": "markdown",
      "source": [
        "#### 5.1.5 Visulization"
      ],
      "metadata": {
        "id": "f3rEU4y5bxgf"
      },
      "id": "f3rEU4y5bxgf"
    },
    {
      "cell_type": "code",
      "source": [
        "train = df_LSTM[900:training_data_LSTM_len]\n",
        "valid = df_LSTM[training_data_LSTM_len:]\n",
        "valid['Predictions'] = pred_cv\n",
        "# Create plots\n",
        "plt.figure(figsize=(16,6))\n",
        "plt.title('Model')\n",
        "plt.xlabel('Date', fontsize=18)\n",
        "plt.ylabel('Close Price USD ($)', fontsize=18)\n",
        "plt.plot(train['Close'])\n",
        "plt.plot(valid[['Close', 'Predictions']])\n",
        "plt.legend(['Train', 'Val', 'Predictions'], loc='lower right')\n",
        "plt.show()"
      ],
      "metadata": {
        "id": "Or6vQDXTm087"
      },
      "id": "Or6vQDXTm087",
      "execution_count": null,
      "outputs": []
    }
  ],
  "metadata": {
    "colab": {
      "collapsed_sections": [
        "0rMYFc3MVOYg",
        "5kjjER6oVl7I",
        "6uqRGzQ5WANx",
        "3u4PM2ADWOt0",
        "PyQz6Ai2Y8vb"
      ],
      "name": "0517-1.ipynb",
      "provenance": []
    },
    "kernelspec": {
      "display_name": "Python 3 (ipykernel)",
      "language": "python",
      "name": "python3"
    },
    "language_info": {
      "codemirror_mode": {
        "name": "ipython",
        "version": 3
      },
      "file_extension": ".py",
      "mimetype": "text/x-python",
      "name": "python",
      "nbconvert_exporter": "python",
      "pygments_lexer": "ipython3",
      "version": "3.9.7"
    }
  },
  "nbformat": 4,
  "nbformat_minor": 5
}

